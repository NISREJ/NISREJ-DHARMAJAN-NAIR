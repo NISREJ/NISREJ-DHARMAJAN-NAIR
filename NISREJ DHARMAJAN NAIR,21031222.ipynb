{
 "cells": [
  {
   "cell_type": "code",
   "execution_count": 71,
   "id": "e9312fd7",
   "metadata": {},
   "outputs": [],
   "source": [
    "import pandas as pd \n",
    "import numpy as np\n",
    "import wbgapi as wb\n",
    "import matplotlib.pyplot as plt\n",
    "import seaborn as sns"
   ]
  },
  {
   "cell_type": "code",
   "execution_count": 103,
   "id": "56c703b4",
   "metadata": {},
   "outputs": [],
   "source": [
    "countries = ['Australia','India','Japan','Germany','Canada','France','United States']\n",
    "\n",
    "country_code = ['AUS','CAN','IND','DEU','USA','JPN','FRA']\n",
    "\n",
    "country_names = {'AUS':'Australia','CAN':'Canada','IND':'India',\n",
    "                 'DEU':'Germany','USA':'United States','JPN':'Japan','FRA':'France'}"
   ]
  },
  {
   "cell_type": "code",
   "execution_count": 104,
   "id": "2bff5f3e",
   "metadata": {},
   "outputs": [
    {
     "data": {
      "text/html": [
       "<div>\n",
       "<style scoped>\n",
       "    .dataframe tbody tr th:only-of-type {\n",
       "        vertical-align: middle;\n",
       "    }\n",
       "\n",
       "    .dataframe tbody tr th {\n",
       "        vertical-align: top;\n",
       "    }\n",
       "\n",
       "    .dataframe thead th {\n",
       "        text-align: right;\n",
       "    }\n",
       "</style>\n",
       "<table border=\"1\" class=\"dataframe\">\n",
       "  <thead>\n",
       "    <tr style=\"text-align: right;\">\n",
       "      <th></th>\n",
       "      <th>YR2008</th>\n",
       "      <th>YR2009</th>\n",
       "      <th>YR2010</th>\n",
       "      <th>YR2011</th>\n",
       "      <th>YR2012</th>\n",
       "      <th>YR2013</th>\n",
       "      <th>YR2014</th>\n",
       "      <th>YR2015</th>\n",
       "      <th>YR2016</th>\n",
       "      <th>YR2017</th>\n",
       "      <th>YR2018</th>\n",
       "    </tr>\n",
       "    <tr>\n",
       "      <th>economy</th>\n",
       "      <th></th>\n",
       "      <th></th>\n",
       "      <th></th>\n",
       "      <th></th>\n",
       "      <th></th>\n",
       "      <th></th>\n",
       "      <th></th>\n",
       "      <th></th>\n",
       "      <th></th>\n",
       "      <th></th>\n",
       "      <th></th>\n",
       "    </tr>\n",
       "  </thead>\n",
       "  <tbody>\n",
       "    <tr>\n",
       "      <th>AUS</th>\n",
       "      <td>23994100.0</td>\n",
       "      <td>27141600.0</td>\n",
       "      <td>25450200.0</td>\n",
       "      <td>31694900.0</td>\n",
       "      <td>31637400.0</td>\n",
       "      <td>31220800.0</td>\n",
       "      <td>31960300.0</td>\n",
       "      <td>31090700.0</td>\n",
       "      <td>30057000.0</td>\n",
       "      <td>30752000.0</td>\n",
       "      <td>30974000.0</td>\n",
       "    </tr>\n",
       "    <tr>\n",
       "      <th>CAN</th>\n",
       "      <td>38485000.0</td>\n",
       "      <td>38086000.0</td>\n",
       "      <td>37687000.0</td>\n",
       "      <td>37285000.0</td>\n",
       "      <td>37534000.0</td>\n",
       "      <td>37783000.0</td>\n",
       "      <td>38032000.0</td>\n",
       "      <td>38282000.0</td>\n",
       "      <td>38530000.0</td>\n",
       "      <td>38509000.0</td>\n",
       "      <td>38687000.0</td>\n",
       "    </tr>\n",
       "    <tr>\n",
       "      <th>DEU</th>\n",
       "      <td>11932000.0</td>\n",
       "      <td>11945000.0</td>\n",
       "      <td>11846000.0</td>\n",
       "      <td>11875000.0</td>\n",
       "      <td>11834000.0</td>\n",
       "      <td>11876000.0</td>\n",
       "      <td>11869000.0</td>\n",
       "      <td>11846000.0</td>\n",
       "      <td>11762000.0</td>\n",
       "      <td>11772000.0</td>\n",
       "      <td>11731000.0</td>\n",
       "    </tr>\n",
       "    <tr>\n",
       "      <th>FRA</th>\n",
       "      <td>18268700.0</td>\n",
       "      <td>18256200.0</td>\n",
       "      <td>18300700.0</td>\n",
       "      <td>18274400.0</td>\n",
       "      <td>18281700.0</td>\n",
       "      <td>18305700.0</td>\n",
       "      <td>18333100.0</td>\n",
       "      <td>18478700.0</td>\n",
       "      <td>18355916.0</td>\n",
       "      <td>18464367.0</td>\n",
       "      <td>18126400.0</td>\n",
       "    </tr>\n",
       "    <tr>\n",
       "      <th>IND</th>\n",
       "      <td>157995000.0</td>\n",
       "      <td>157924000.0</td>\n",
       "      <td>157009000.0</td>\n",
       "      <td>156979000.0</td>\n",
       "      <td>156546000.0</td>\n",
       "      <td>156442000.0</td>\n",
       "      <td>156463000.0</td>\n",
       "      <td>156416000.0</td>\n",
       "      <td>156416000.0</td>\n",
       "      <td>156416000.0</td>\n",
       "      <td>156416000.0</td>\n",
       "    </tr>\n",
       "    <tr>\n",
       "      <th>JPN</th>\n",
       "      <td>4308000.0</td>\n",
       "      <td>4294000.0</td>\n",
       "      <td>4282000.0</td>\n",
       "      <td>4254000.0</td>\n",
       "      <td>4246000.0</td>\n",
       "      <td>4238000.0</td>\n",
       "      <td>4222000.0</td>\n",
       "      <td>4205000.0</td>\n",
       "      <td>4184000.0</td>\n",
       "      <td>4161000.0</td>\n",
       "      <td>4142000.0</td>\n",
       "    </tr>\n",
       "    <tr>\n",
       "      <th>USA</th>\n",
       "      <td>160425500.0</td>\n",
       "      <td>159071000.0</td>\n",
       "      <td>157716500.0</td>\n",
       "      <td>156362000.0</td>\n",
       "      <td>155007500.0</td>\n",
       "      <td>155553400.0</td>\n",
       "      <td>156099300.0</td>\n",
       "      <td>156645100.0</td>\n",
       "      <td>157191000.0</td>\n",
       "      <td>157736800.0</td>\n",
       "      <td>157736800.0</td>\n",
       "    </tr>\n",
       "  </tbody>\n",
       "</table>\n",
       "</div>"
      ],
      "text/plain": [
       "              YR2008       YR2009       YR2010       YR2011       YR2012  \\\n",
       "economy                                                                    \n",
       "AUS       23994100.0   27141600.0   25450200.0   31694900.0   31637400.0   \n",
       "CAN       38485000.0   38086000.0   37687000.0   37285000.0   37534000.0   \n",
       "DEU       11932000.0   11945000.0   11846000.0   11875000.0   11834000.0   \n",
       "FRA       18268700.0   18256200.0   18300700.0   18274400.0   18281700.0   \n",
       "IND      157995000.0  157924000.0  157009000.0  156979000.0  156546000.0   \n",
       "JPN        4308000.0    4294000.0    4282000.0    4254000.0    4246000.0   \n",
       "USA      160425500.0  159071000.0  157716500.0  156362000.0  155007500.0   \n",
       "\n",
       "              YR2013       YR2014       YR2015       YR2016       YR2017  \\\n",
       "economy                                                                    \n",
       "AUS       31220800.0   31960300.0   31090700.0   30057000.0   30752000.0   \n",
       "CAN       37783000.0   38032000.0   38282000.0   38530000.0   38509000.0   \n",
       "DEU       11876000.0   11869000.0   11846000.0   11762000.0   11772000.0   \n",
       "FRA       18305700.0   18333100.0   18478700.0   18355916.0   18464367.0   \n",
       "IND      156442000.0  156463000.0  156416000.0  156416000.0  156416000.0   \n",
       "JPN        4238000.0    4222000.0    4205000.0    4184000.0    4161000.0   \n",
       "USA      155553400.0  156099300.0  156645100.0  157191000.0  157736800.0   \n",
       "\n",
       "              YR2018  \n",
       "economy               \n",
       "AUS       30974000.0  \n",
       "CAN       38687000.0  \n",
       "DEU       11731000.0  \n",
       "FRA       18126400.0  \n",
       "IND      156416000.0  \n",
       "JPN        4142000.0  \n",
       "USA      157736800.0  "
      ]
     },
     "execution_count": 104,
     "metadata": {},
     "output_type": "execute_result"
    }
   ],
   "source": [
    "d_gdp = pd.DataFrame(wb.data.DataFrame('AG.LND.ARBL.HA',country_code, time=range(2008, 2019)))\n",
    "d_gdp"
   ]
  },
  {
   "cell_type": "code",
   "execution_count": 130,
   "id": "2d8a78eb",
   "metadata": {},
   "outputs": [
    {
     "data": {
      "text/html": [
       "<div class=\"wbgapi\"><table>\n",
       "<thead>\n",
       "<tr><th>id            </th><th>value                 </th></tr>\n",
       "</thead>\n",
       "<tbody>\n",
       "<tr><td>AG.LND.ARBL.HA</td><td>Arable land (hectares)</td></tr>\n",
       "<tr><td>              </td><td>1 elements            </td></tr>\n",
       "</tbody>\n",
       "</table></div>"
      ],
      "text/plain": [
       "id              value\n",
       "--------------  ----------------------\n",
       "AG.LND.ARBL.HA  Arable land (hectares)\n",
       "                1 elements"
      ]
     },
     "execution_count": 130,
     "metadata": {},
     "output_type": "execute_result"
    }
   ],
   "source": [
    "wb.series.info('AG.LND.ARBL.HA')"
   ]
  },
  {
   "cell_type": "code",
   "execution_count": 106,
   "id": "7a8297a4",
   "metadata": {},
   "outputs": [
    {
     "data": {
      "text/html": [
       "<div>\n",
       "<style scoped>\n",
       "    .dataframe tbody tr th:only-of-type {\n",
       "        vertical-align: middle;\n",
       "    }\n",
       "\n",
       "    .dataframe tbody tr th {\n",
       "        vertical-align: top;\n",
       "    }\n",
       "\n",
       "    .dataframe thead th {\n",
       "        text-align: right;\n",
       "    }\n",
       "</style>\n",
       "<table border=\"1\" class=\"dataframe\">\n",
       "  <thead>\n",
       "    <tr style=\"text-align: right;\">\n",
       "      <th></th>\n",
       "      <th>YR2008</th>\n",
       "      <th>YR2009</th>\n",
       "      <th>YR2010</th>\n",
       "      <th>YR2011</th>\n",
       "      <th>YR2012</th>\n",
       "      <th>YR2013</th>\n",
       "      <th>YR2014</th>\n",
       "      <th>YR2015</th>\n",
       "      <th>YR2016</th>\n",
       "      <th>YR2017</th>\n",
       "      <th>YR2018</th>\n",
       "    </tr>\n",
       "    <tr>\n",
       "      <th>economy</th>\n",
       "      <th></th>\n",
       "      <th></th>\n",
       "      <th></th>\n",
       "      <th></th>\n",
       "      <th></th>\n",
       "      <th></th>\n",
       "      <th></th>\n",
       "      <th></th>\n",
       "      <th></th>\n",
       "      <th></th>\n",
       "      <th></th>\n",
       "    </tr>\n",
       "  </thead>\n",
       "  <tbody>\n",
       "    <tr>\n",
       "      <th>AUS</th>\n",
       "      <td>0.342260</td>\n",
       "      <td>0.341331</td>\n",
       "      <td>0.327982</td>\n",
       "      <td>0.318793</td>\n",
       "      <td>0.306773</td>\n",
       "      <td>0.294004</td>\n",
       "      <td>0.279642</td>\n",
       "      <td>0.278147</td>\n",
       "      <td>0.276400</td>\n",
       "      <td>0.272464</td>\n",
       "      <td>0.264262</td>\n",
       "    </tr>\n",
       "    <tr>\n",
       "      <th>CAN</th>\n",
       "      <td>0.393423</td>\n",
       "      <td>0.383635</td>\n",
       "      <td>0.382306</td>\n",
       "      <td>0.379433</td>\n",
       "      <td>0.372468</td>\n",
       "      <td>0.370117</td>\n",
       "      <td>0.363335</td>\n",
       "      <td>0.359009</td>\n",
       "      <td>0.350157</td>\n",
       "      <td>0.347099</td>\n",
       "      <td>0.346182</td>\n",
       "    </tr>\n",
       "    <tr>\n",
       "      <th>DEU</th>\n",
       "      <td>0.251307</td>\n",
       "      <td>0.247954</td>\n",
       "      <td>0.250401</td>\n",
       "      <td>0.232670</td>\n",
       "      <td>0.235935</td>\n",
       "      <td>0.240350</td>\n",
       "      <td>0.223016</td>\n",
       "      <td>0.221173</td>\n",
       "      <td>0.217759</td>\n",
       "      <td>0.207832</td>\n",
       "      <td>0.199236</td>\n",
       "    </tr>\n",
       "    <tr>\n",
       "      <th>FRA</th>\n",
       "      <td>0.153110</td>\n",
       "      <td>0.151333</td>\n",
       "      <td>0.150192</td>\n",
       "      <td>0.140883</td>\n",
       "      <td>0.141622</td>\n",
       "      <td>0.140936</td>\n",
       "      <td>0.126289</td>\n",
       "      <td>0.127356</td>\n",
       "      <td>0.126864</td>\n",
       "      <td>0.125470</td>\n",
       "      <td>0.120681</td>\n",
       "    </tr>\n",
       "    <tr>\n",
       "      <th>IND</th>\n",
       "      <td>1.084924</td>\n",
       "      <td>1.108028</td>\n",
       "      <td>1.084259</td>\n",
       "      <td>1.089335</td>\n",
       "      <td>1.119661</td>\n",
       "      <td>1.084566</td>\n",
       "      <td>1.097049</td>\n",
       "      <td>1.022168</td>\n",
       "      <td>0.958728</td>\n",
       "      <td>0.946310</td>\n",
       "      <td>0.939643</td>\n",
       "    </tr>\n",
       "    <tr>\n",
       "      <th>JPN</th>\n",
       "      <td>0.269836</td>\n",
       "      <td>0.271714</td>\n",
       "      <td>0.274024</td>\n",
       "      <td>0.287250</td>\n",
       "      <td>0.292717</td>\n",
       "      <td>0.288952</td>\n",
       "      <td>0.278712</td>\n",
       "      <td>0.265808</td>\n",
       "      <td>0.261562</td>\n",
       "      <td>0.252979</td>\n",
       "      <td>0.241575</td>\n",
       "    </tr>\n",
       "    <tr>\n",
       "      <th>USA</th>\n",
       "      <td>0.340759</td>\n",
       "      <td>0.324252</td>\n",
       "      <td>0.330443</td>\n",
       "      <td>0.312076</td>\n",
       "      <td>0.292116</td>\n",
       "      <td>0.294904</td>\n",
       "      <td>0.288377</td>\n",
       "      <td>0.273205</td>\n",
       "      <td>0.263532</td>\n",
       "      <td>0.253578</td>\n",
       "      <td>0.254772</td>\n",
       "    </tr>\n",
       "  </tbody>\n",
       "</table>\n",
       "</div>"
      ],
      "text/plain": [
       "           YR2008    YR2009    YR2010    YR2011    YR2012    YR2013    YR2014  \\\n",
       "economy                                                                         \n",
       "AUS      0.342260  0.341331  0.327982  0.318793  0.306773  0.294004  0.279642   \n",
       "CAN      0.393423  0.383635  0.382306  0.379433  0.372468  0.370117  0.363335   \n",
       "DEU      0.251307  0.247954  0.250401  0.232670  0.235935  0.240350  0.223016   \n",
       "FRA      0.153110  0.151333  0.150192  0.140883  0.141622  0.140936  0.126289   \n",
       "IND      1.084924  1.108028  1.084259  1.089335  1.119661  1.084566  1.097049   \n",
       "JPN      0.269836  0.271714  0.274024  0.287250  0.292717  0.288952  0.278712   \n",
       "USA      0.340759  0.324252  0.330443  0.312076  0.292116  0.294904  0.288377   \n",
       "\n",
       "           YR2015    YR2016    YR2017    YR2018  \n",
       "economy                                          \n",
       "AUS      0.278147  0.276400  0.272464  0.264262  \n",
       "CAN      0.359009  0.350157  0.347099  0.346182  \n",
       "DEU      0.221173  0.217759  0.207832  0.199236  \n",
       "FRA      0.127356  0.126864  0.125470  0.120681  \n",
       "IND      1.022168  0.958728  0.946310  0.939643  \n",
       "JPN      0.265808  0.261562  0.252979  0.241575  \n",
       "USA      0.273205  0.263532  0.253578  0.254772  "
      ]
     },
     "execution_count": 106,
     "metadata": {},
     "output_type": "execute_result"
    }
   ],
   "source": [
    "d_popln = pd.DataFrame(wb.data.DataFrame('EN.ATM.CO2E.KD.GD',country_code, time=range(2008, 2019)))\n",
    "d_popln"
   ]
  },
  {
   "cell_type": "code",
   "execution_count": 131,
   "id": "66504928",
   "metadata": {},
   "outputs": [
    {
     "data": {
      "text/html": [
       "<div class=\"wbgapi\"><table>\n",
       "<thead>\n",
       "<tr><th>id               </th><th>value                                 </th></tr>\n",
       "</thead>\n",
       "<tbody>\n",
       "<tr><td>EN.ATM.CO2E.KD.GD</td><td>CO2 emissions (kg per 2015 US$ of GDP)</td></tr>\n",
       "<tr><td>                 </td><td>1 elements                            </td></tr>\n",
       "</tbody>\n",
       "</table></div>"
      ],
      "text/plain": [
       "id                 value\n",
       "-----------------  --------------------------------------\n",
       "EN.ATM.CO2E.KD.GD  CO2 emissions (kg per 2015 US$ of GDP)\n",
       "                   1 elements"
      ]
     },
     "execution_count": 131,
     "metadata": {},
     "output_type": "execute_result"
    }
   ],
   "source": [
    "wb.series.info('EN.ATM.CO2E.KD.GD')"
   ]
  },
  {
   "cell_type": "code",
   "execution_count": 107,
   "id": "86ed4d26",
   "metadata": {},
   "outputs": [],
   "source": [
    "d_full = pd.DataFrame()\n",
    "gdp = []\n",
    "population = []\n",
    "for i in d_popln:\n",
    "    population.extend(d_popln[i])\n",
    "\n",
    "for i in d_gdp:\n",
    "    gdp.extend(d_gdp[i])\n",
    "\n",
    "d_full['gdp'] = gdp\n",
    "d_full['population'] = population"
   ]
  },
  {
   "cell_type": "code",
   "execution_count": 108,
   "id": "da434ec1",
   "metadata": {},
   "outputs": [
    {
     "data": {
      "text/plain": [
       "pandas.core.frame.DataFrame"
      ]
     },
     "execution_count": 108,
     "metadata": {},
     "output_type": "execute_result"
    }
   ],
   "source": [
    "type(d_full)"
   ]
  },
  {
   "cell_type": "markdown",
   "id": "d0a68549",
   "metadata": {},
   "source": [
    "### K-Means Clustering\n"
   ]
  },
  {
   "cell_type": "code",
   "execution_count": 109,
   "id": "a7bc0670",
   "metadata": {},
   "outputs": [],
   "source": [
    "from sklearn.cluster import KMeans"
   ]
  },
  {
   "cell_type": "code",
   "execution_count": 110,
   "id": "2c3c393a",
   "metadata": {},
   "outputs": [],
   "source": [
    "kmeans = KMeans(n_clusters=3, random_state=0).fit(d_full[['population','gdp']])"
   ]
  },
  {
   "cell_type": "code",
   "execution_count": 111,
   "id": "ec9b1121",
   "metadata": {},
   "outputs": [
    {
     "data": {
      "text/plain": [
       "1594130382651606.5"
      ]
     },
     "execution_count": 111,
     "metadata": {},
     "output_type": "execute_result"
    }
   ],
   "source": [
    "kmeans.inertia_"
   ]
  },
  {
   "cell_type": "code",
   "execution_count": 112,
   "id": "d6400e03",
   "metadata": {},
   "outputs": [
    {
     "data": {
      "text/plain": [
       "array([[2.12651445e-01, 1.14627237e+07],\n",
       "       [6.71031246e-01, 1.57025768e+08],\n",
       "       [3.34055512e-01, 3.38578636e+07]])"
      ]
     },
     "execution_count": 112,
     "metadata": {},
     "output_type": "execute_result"
    }
   ],
   "source": [
    "kmeans.cluster_centers_"
   ]
  },
  {
   "cell_type": "code",
   "execution_count": 113,
   "id": "14708f43",
   "metadata": {},
   "outputs": [
    {
     "data": {
      "text/plain": [
       "2"
      ]
     },
     "execution_count": 113,
     "metadata": {},
     "output_type": "execute_result"
    }
   ],
   "source": [
    "kmeans.n_iter_"
   ]
  },
  {
   "cell_type": "code",
   "execution_count": 114,
   "id": "63ba86d2",
   "metadata": {},
   "outputs": [],
   "source": [
    "d_full['cluster'] = kmeans.labels_"
   ]
  },
  {
   "cell_type": "code",
   "execution_count": 115,
   "id": "47c5405c",
   "metadata": {},
   "outputs": [
    {
     "data": {
      "text/html": [
       "<div>\n",
       "<style scoped>\n",
       "    .dataframe tbody tr th:only-of-type {\n",
       "        vertical-align: middle;\n",
       "    }\n",
       "\n",
       "    .dataframe tbody tr th {\n",
       "        vertical-align: top;\n",
       "    }\n",
       "\n",
       "    .dataframe thead th {\n",
       "        text-align: right;\n",
       "    }\n",
       "</style>\n",
       "<table border=\"1\" class=\"dataframe\">\n",
       "  <thead>\n",
       "    <tr style=\"text-align: right;\">\n",
       "      <th></th>\n",
       "      <th>gdp</th>\n",
       "      <th>population</th>\n",
       "      <th>cluster</th>\n",
       "    </tr>\n",
       "  </thead>\n",
       "  <tbody>\n",
       "    <tr>\n",
       "      <th>0</th>\n",
       "      <td>23994100.0</td>\n",
       "      <td>0.342260</td>\n",
       "      <td>2</td>\n",
       "    </tr>\n",
       "    <tr>\n",
       "      <th>1</th>\n",
       "      <td>38485000.0</td>\n",
       "      <td>0.393423</td>\n",
       "      <td>2</td>\n",
       "    </tr>\n",
       "    <tr>\n",
       "      <th>2</th>\n",
       "      <td>11932000.0</td>\n",
       "      <td>0.251307</td>\n",
       "      <td>0</td>\n",
       "    </tr>\n",
       "    <tr>\n",
       "      <th>3</th>\n",
       "      <td>18268700.0</td>\n",
       "      <td>0.153110</td>\n",
       "      <td>0</td>\n",
       "    </tr>\n",
       "    <tr>\n",
       "      <th>4</th>\n",
       "      <td>157995000.0</td>\n",
       "      <td>1.084924</td>\n",
       "      <td>1</td>\n",
       "    </tr>\n",
       "    <tr>\n",
       "      <th>...</th>\n",
       "      <td>...</td>\n",
       "      <td>...</td>\n",
       "      <td>...</td>\n",
       "    </tr>\n",
       "    <tr>\n",
       "      <th>72</th>\n",
       "      <td>11731000.0</td>\n",
       "      <td>0.199236</td>\n",
       "      <td>0</td>\n",
       "    </tr>\n",
       "    <tr>\n",
       "      <th>73</th>\n",
       "      <td>18126400.0</td>\n",
       "      <td>0.120681</td>\n",
       "      <td>0</td>\n",
       "    </tr>\n",
       "    <tr>\n",
       "      <th>74</th>\n",
       "      <td>156416000.0</td>\n",
       "      <td>0.939643</td>\n",
       "      <td>1</td>\n",
       "    </tr>\n",
       "    <tr>\n",
       "      <th>75</th>\n",
       "      <td>4142000.0</td>\n",
       "      <td>0.241575</td>\n",
       "      <td>0</td>\n",
       "    </tr>\n",
       "    <tr>\n",
       "      <th>76</th>\n",
       "      <td>157736800.0</td>\n",
       "      <td>0.254772</td>\n",
       "      <td>1</td>\n",
       "    </tr>\n",
       "  </tbody>\n",
       "</table>\n",
       "<p>77 rows × 3 columns</p>\n",
       "</div>"
      ],
      "text/plain": [
       "            gdp  population  cluster\n",
       "0    23994100.0    0.342260        2\n",
       "1    38485000.0    0.393423        2\n",
       "2    11932000.0    0.251307        0\n",
       "3    18268700.0    0.153110        0\n",
       "4   157995000.0    1.084924        1\n",
       "..          ...         ...      ...\n",
       "72   11731000.0    0.199236        0\n",
       "73   18126400.0    0.120681        0\n",
       "74  156416000.0    0.939643        1\n",
       "75    4142000.0    0.241575        0\n",
       "76  157736800.0    0.254772        1\n",
       "\n",
       "[77 rows x 3 columns]"
      ]
     },
     "execution_count": 115,
     "metadata": {},
     "output_type": "execute_result"
    }
   ],
   "source": [
    "d_full"
   ]
  },
  {
   "cell_type": "code",
   "execution_count": 144,
   "id": "8e51e4fc",
   "metadata": {},
   "outputs": [
    {
     "data": {
      "image/png": "[encoded data removed]",
      "text/plain": [
       "<Figure size 432x288 with 1 Axes>"
      ]
     },
     "metadata": {
      "needs_background": "light"
     },
     "output_type": "display_data"
    }
   ],
   "source": [
    "sns.scatterplot(x = 'gdp', y = 'population' , hue='cluster', data = d_full)\n",
    "plt.title(\"K-Means before normalisation\")\n",
    "plt.savefig(\"Kmean_before.png\")\n",
    "plt.show()\n"
   ]
  },
  {
   "cell_type": "markdown",
   "id": "d0c85ac1",
   "metadata": {},
   "source": [
    "### K-means after normalisation"
   ]
  },
  {
   "cell_type": "code",
   "execution_count": 117,
   "id": "8ecc8b1c",
   "metadata": {},
   "outputs": [],
   "source": [
    "from sklearn import preprocessing"
   ]
  },
  {
   "cell_type": "code",
   "execution_count": 118,
   "id": "316cf739",
   "metadata": {},
   "outputs": [],
   "source": [
    "d_f = d_full.drop(['cluster'], axis = 1)\n"
   ]
  },
  {
   "cell_type": "code",
   "execution_count": 119,
   "id": "b73f8ab9",
   "metadata": {},
   "outputs": [
    {
     "data": {
      "text/html": [
       "<div>\n",
       "<style scoped>\n",
       "    .dataframe tbody tr th:only-of-type {\n",
       "        vertical-align: middle;\n",
       "    }\n",
       "\n",
       "    .dataframe tbody tr th {\n",
       "        vertical-align: top;\n",
       "    }\n",
       "\n",
       "    .dataframe thead th {\n",
       "        text-align: right;\n",
       "    }\n",
       "</style>\n",
       "<table border=\"1\" class=\"dataframe\">\n",
       "  <thead>\n",
       "    <tr style=\"text-align: right;\">\n",
       "      <th></th>\n",
       "      <th>gdp</th>\n",
       "      <th>population</th>\n",
       "    </tr>\n",
       "  </thead>\n",
       "  <tbody>\n",
       "    <tr>\n",
       "      <th>0</th>\n",
       "      <td>0.031681</td>\n",
       "      <td>0.082540</td>\n",
       "    </tr>\n",
       "    <tr>\n",
       "      <th>1</th>\n",
       "      <td>0.050814</td>\n",
       "      <td>0.094879</td>\n",
       "    </tr>\n",
       "    <tr>\n",
       "      <th>2</th>\n",
       "      <td>0.015755</td>\n",
       "      <td>0.060606</td>\n",
       "    </tr>\n",
       "    <tr>\n",
       "      <th>3</th>\n",
       "      <td>0.024121</td>\n",
       "      <td>0.036924</td>\n",
       "    </tr>\n",
       "    <tr>\n",
       "      <th>4</th>\n",
       "      <td>0.208611</td>\n",
       "      <td>0.261642</td>\n",
       "    </tr>\n",
       "    <tr>\n",
       "      <th>...</th>\n",
       "      <td>...</td>\n",
       "      <td>...</td>\n",
       "    </tr>\n",
       "    <tr>\n",
       "      <th>72</th>\n",
       "      <td>0.015489</td>\n",
       "      <td>0.048048</td>\n",
       "    </tr>\n",
       "    <tr>\n",
       "      <th>73</th>\n",
       "      <td>0.023933</td>\n",
       "      <td>0.029104</td>\n",
       "    </tr>\n",
       "    <tr>\n",
       "      <th>74</th>\n",
       "      <td>0.206526</td>\n",
       "      <td>0.226606</td>\n",
       "    </tr>\n",
       "    <tr>\n",
       "      <th>75</th>\n",
       "      <td>0.005469</td>\n",
       "      <td>0.058259</td>\n",
       "    </tr>\n",
       "    <tr>\n",
       "      <th>76</th>\n",
       "      <td>0.208270</td>\n",
       "      <td>0.061441</td>\n",
       "    </tr>\n",
       "  </tbody>\n",
       "</table>\n",
       "<p>77 rows × 2 columns</p>\n",
       "</div>"
      ],
      "text/plain": [
       "         gdp  population\n",
       "0   0.031681    0.082540\n",
       "1   0.050814    0.094879\n",
       "2   0.015755    0.060606\n",
       "3   0.024121    0.036924\n",
       "4   0.208611    0.261642\n",
       "..       ...         ...\n",
       "72  0.015489    0.048048\n",
       "73  0.023933    0.029104\n",
       "74  0.206526    0.226606\n",
       "75  0.005469    0.058259\n",
       "76  0.208270    0.061441\n",
       "\n",
       "[77 rows x 2 columns]"
      ]
     },
     "execution_count": 119,
     "metadata": {},
     "output_type": "execute_result"
    }
   ],
   "source": [
    "names = ['gdp','population']\n",
    "d = preprocessing.normalize(d_f, axis=0)\n",
    "d_pre = pd.DataFrame(d,columns=names)\n",
    "d_pre"
   ]
  },
  {
   "cell_type": "code",
   "execution_count": 120,
   "id": "9b1c88a3",
   "metadata": {},
   "outputs": [],
   "source": [
    "kmeans = KMeans(n_clusters=3, random_state=0).fit(d_pre[['population','gdp']])"
   ]
  },
  {
   "cell_type": "code",
   "execution_count": 121,
   "id": "5e28d692",
   "metadata": {},
   "outputs": [
    {
     "data": {
      "text/plain": [
       "0.037514495260232615"
      ]
     },
     "execution_count": 121,
     "metadata": {},
     "output_type": "execute_result"
    }
   ],
   "source": [
    "kmeans.inertia_"
   ]
  },
  {
   "cell_type": "code",
   "execution_count": 122,
   "id": "25f1ce62",
   "metadata": {},
   "outputs": [
    {
     "data": {
      "text/plain": [
       "array([[0.06299466, 0.02696283],\n",
       "       [0.25288403, 0.20705948],\n",
       "       [0.07077043, 0.20760238]])"
      ]
     },
     "execution_count": 122,
     "metadata": {},
     "output_type": "execute_result"
    }
   ],
   "source": [
    "kmeans.cluster_centers_"
   ]
  },
  {
   "cell_type": "code",
   "execution_count": 123,
   "id": "eede173f",
   "metadata": {},
   "outputs": [],
   "source": [
    "d_pre['cluster'] = kmeans.labels_"
   ]
  },
  {
   "cell_type": "code",
   "execution_count": 124,
   "id": "bae29169",
   "metadata": {},
   "outputs": [
    {
     "data": {
      "text/html": [
       "<div>\n",
       "<style scoped>\n",
       "    .dataframe tbody tr th:only-of-type {\n",
       "        vertical-align: middle;\n",
       "    }\n",
       "\n",
       "    .dataframe tbody tr th {\n",
       "        vertical-align: top;\n",
       "    }\n",
       "\n",
       "    .dataframe thead th {\n",
       "        text-align: right;\n",
       "    }\n",
       "</style>\n",
       "<table border=\"1\" class=\"dataframe\">\n",
       "  <thead>\n",
       "    <tr style=\"text-align: right;\">\n",
       "      <th></th>\n",
       "      <th>gdp</th>\n",
       "      <th>population</th>\n",
       "      <th>cluster</th>\n",
       "    </tr>\n",
       "  </thead>\n",
       "  <tbody>\n",
       "    <tr>\n",
       "      <th>0</th>\n",
       "      <td>0.031681</td>\n",
       "      <td>0.082540</td>\n",
       "      <td>0</td>\n",
       "    </tr>\n",
       "    <tr>\n",
       "      <th>1</th>\n",
       "      <td>0.050814</td>\n",
       "      <td>0.094879</td>\n",
       "      <td>0</td>\n",
       "    </tr>\n",
       "    <tr>\n",
       "      <th>2</th>\n",
       "      <td>0.015755</td>\n",
       "      <td>0.060606</td>\n",
       "      <td>0</td>\n",
       "    </tr>\n",
       "    <tr>\n",
       "      <th>3</th>\n",
       "      <td>0.024121</td>\n",
       "      <td>0.036924</td>\n",
       "      <td>0</td>\n",
       "    </tr>\n",
       "    <tr>\n",
       "      <th>4</th>\n",
       "      <td>0.208611</td>\n",
       "      <td>0.261642</td>\n",
       "      <td>1</td>\n",
       "    </tr>\n",
       "    <tr>\n",
       "      <th>...</th>\n",
       "      <td>...</td>\n",
       "      <td>...</td>\n",
       "      <td>...</td>\n",
       "    </tr>\n",
       "    <tr>\n",
       "      <th>72</th>\n",
       "      <td>0.015489</td>\n",
       "      <td>0.048048</td>\n",
       "      <td>0</td>\n",
       "    </tr>\n",
       "    <tr>\n",
       "      <th>73</th>\n",
       "      <td>0.023933</td>\n",
       "      <td>0.029104</td>\n",
       "      <td>0</td>\n",
       "    </tr>\n",
       "    <tr>\n",
       "      <th>74</th>\n",
       "      <td>0.206526</td>\n",
       "      <td>0.226606</td>\n",
       "      <td>1</td>\n",
       "    </tr>\n",
       "    <tr>\n",
       "      <th>75</th>\n",
       "      <td>0.005469</td>\n",
       "      <td>0.058259</td>\n",
       "      <td>0</td>\n",
       "    </tr>\n",
       "    <tr>\n",
       "      <th>76</th>\n",
       "      <td>0.208270</td>\n",
       "      <td>0.061441</td>\n",
       "      <td>2</td>\n",
       "    </tr>\n",
       "  </tbody>\n",
       "</table>\n",
       "<p>77 rows × 3 columns</p>\n",
       "</div>"
      ],
      "text/plain": [
       "         gdp  population  cluster\n",
       "0   0.031681    0.082540        0\n",
       "1   0.050814    0.094879        0\n",
       "2   0.015755    0.060606        0\n",
       "3   0.024121    0.036924        0\n",
       "4   0.208611    0.261642        1\n",
       "..       ...         ...      ...\n",
       "72  0.015489    0.048048        0\n",
       "73  0.023933    0.029104        0\n",
       "74  0.206526    0.226606        1\n",
       "75  0.005469    0.058259        0\n",
       "76  0.208270    0.061441        2\n",
       "\n",
       "[77 rows x 3 columns]"
      ]
     },
     "execution_count": 124,
     "metadata": {},
     "output_type": "execute_result"
    }
   ],
   "source": [
    "d_pre"
   ]
  },
  {
   "cell_type": "code",
   "execution_count": 143,
   "id": "50a5fa47",
   "metadata": {},
   "outputs": [
    {
     "data": {
      "image/png": "[encoded data removed]",
      "text/plain": [
       "<Figure size 432x288 with 1 Axes>"
      ]
     },
     "metadata": {
      "needs_background": "light"
     },
     "output_type": "display_data"
    }
   ],
   "source": [
    "sns.scatterplot(x = 'gdp', y = 'population' , hue='cluster', data = d_pre)\n",
    "plt.title(\"K-Means after normalisation\")\n",
    "plt.savefig(\"Kmean_after.png\")\n",
    "plt.show()"
   ]
  },
  {
   "cell_type": "markdown",
   "id": "8b514f7a",
   "metadata": {},
   "source": [
    "#### curve fit"
   ]
  },
  {
   "cell_type": "code",
   "execution_count": 126,
   "id": "33b17b8b",
   "metadata": {},
   "outputs": [],
   "source": [
    "# from numpy import exp, linspace, random\n",
    "from scipy.optimize import curve_fit"
   ]
  },
  {
   "cell_type": "code",
   "execution_count": 127,
   "id": "a59afd31",
   "metadata": {},
   "outputs": [],
   "source": [
    "def func(x,a,b,c):\n",
    "    return a * np.exp(-(x-b)**2 / c)\n",
    "\n",
    "\n",
    "def err_ranges(x, func, param, sigma):\n",
    "    \"\"\"\n",
    "    Calculates the upper and lower limits for the function, parameters and\n",
    "    sigmas for single value or array x. Functions values are calculated for \n",
    "    all combinations of +/- sigma and the minimum and maximum is determined.\n",
    "    Can be used for all number of parameters and sigmas >=1.\n",
    "    \n",
    "    This routine can be used in assignment programs.\n",
    "    \"\"\"\n",
    "    import itertools as iter\n",
    "    \n",
    "    # initiate arrays for lower and upper limits\n",
    "    lower = func(x, *param)\n",
    "    upper = lower\n",
    "    \n",
    "    uplow = []   # list to hold upper and lower limits for parameters\n",
    "    for p,s in zip(param, sigma):\n",
    "        pmin = p - s\n",
    "        pmax = p + s\n",
    "        uplow.append((pmin, pmax))\n",
    "        \n",
    "    pmix = list(iter.product(*uplow))\n",
    "    \n",
    "    for p in pmix:\n",
    "        y = func(x, *p)\n",
    "        lower = np.minimum(lower, y)\n",
    "        upper = np.maximum(upper, y)\n",
    "        \n",
    "    return lower, upper"
   ]
  },
  {
   "cell_type": "code",
   "execution_count": 142,
   "id": "e46dd086",
   "metadata": {},
   "outputs": [
    {
     "data": {
      "image/png": "[encoded data removed]",
      "text/plain": [
       "<Figure size 432x288 with 1 Axes>"
      ]
     },
     "metadata": {
      "needs_background": "light"
     },
     "output_type": "display_data"
    }
   ],
   "source": [
    "plt.scatter(d_full['gdp'],d_full['population'])\n",
    "plt.title('Scatter plot before curve fitting')\n",
    "plt.ylabel('population')\n",
    "plt.xlabel('gdp')\n",
    "plt.savefig('curvefit_before.png')\n",
    "plt.show()"
   ]
  },
  {
   "cell_type": "code",
   "execution_count": 128,
   "id": "4fce0a4b",
   "metadata": {},
   "outputs": [],
   "source": [
    "x = np.linspace(-10,10,101)\n",
    "y = func(x,2.33,0.21,1.51) + np.random.normal(0,0.2,x.size)\n",
    "\n",
    "popt, pcov = curve_fit(func, x, y)"
   ]
  },
  {
   "cell_type": "code",
   "execution_count": 141,
   "id": "59c1eee1",
   "metadata": {
    "scrolled": true
   },
   "outputs": [
    {
     "name": "stdout",
     "output_type": "stream",
     "text": [
      "y = (2.3x + 0.23) / 1.65\n"
     ]
    },
    {
     "data": {
      "image/png": "[encoded data removed]",
      "text/plain": [
       "<Figure size 432x288 with 1 Axes>"
      ]
     },
     "metadata": {
      "needs_background": "light"
     },
     "output_type": "display_data"
    }
   ],
   "source": [
    "a, b, c = popt\n",
    "print(f'y = ({round(a,2)}x + {round(b,2)}) / {round(c,2)}')\n",
    "\n",
    "plt.scatter(x, y)\n",
    "x_line = np.arange(min(x), max(x), 1)\n",
    "y_line = func(x_line, a, b, c)\n",
    "plt.ylabel('population')\n",
    "plt.xlabel('gdp')\n",
    "plt.title('Scatter plot after curve fitting')\n",
    "plt.plot(x_line, y_line, '--', color='red')\n",
    "plt.savefig('curvefit_after.png')\n",
    "plt.show()"
   ]
  },
  {
   "cell_type": "code",
   "execution_count": null,
   "id": "3b890c82",
   "metadata": {},
   "outputs": [],
   "source": []
  },
  {
   "cell_type": "code",
   "execution_count": null,
   "id": "4d636672",
   "metadata": {},
   "outputs": [],
   "source": []
  },
  {
   "cell_type": "code",
   "execution_count": null,
   "id": "6ed19a7e",
   "metadata": {},
   "outputs": [],
   "source": []
  },
  {
   "cell_type": "code",
   "execution_count": null,
   "id": "671f461a",
   "metadata": {},
   "outputs": [],
   "source": []
  },
  {
   "cell_type": "code",
   "execution_count": null,
   "id": "eff58ca8",
   "metadata": {},
   "outputs": [],
   "source": []
  }
 ],
 "metadata": {
  "kernelspec": {
   "display_name": "Python 3 (ipykernel)",
   "language": "python",
   "name": "python3"
  },
  "language_info": {
   "codemirror_mode": {
    "name": "ipython",
    "version": 3
   },
   "file_extension": ".py",
   "mimetype": "text/x-python",
   "name": "python",
   "nbconvert_exporter": "python",
   "pygments_lexer": "ipython3",
   "version": "3.9.7"
  }
 },
 "nbformat": 4,
 "nbformat_minor": 5
}
